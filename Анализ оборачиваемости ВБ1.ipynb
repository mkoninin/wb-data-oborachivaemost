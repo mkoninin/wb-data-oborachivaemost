{
 "cells": [
  {
   "cell_type": "code",
   "execution_count": 32,
   "metadata": {},
   "outputs": [
    {
     "name": "stderr",
     "output_type": "stream",
     "text": [
      "c:\\ProgramData\\Miniconda3\\lib\\site-packages\\openpyxl\\styles\\stylesheet.py:226: UserWarning: Workbook contains no default style, apply openpyxl's default\n",
      "  warn(\"Workbook contains no default style, apply openpyxl's default\")\n"
     ]
    }
   ],
   "source": [
    "import os\n",
    "import datetime\n",
    "import pandas as pd\n",
    "\n",
    "# dataMain = pd.DataFrame({'Все категории': []})\n",
    "\n",
    "i = 0\n",
    "varsList = list()\n",
    "dataMain = list()\n",
    "\n",
    "for fileName in os.listdir(\"Исходники данных\"):\n",
    "    fileDate = fileName.removesuffix(\".xlsx\").removeprefix(\"report_\").replace(\"_\", \"/\")\n",
    "    xlsx = pd.read_excel(\"Исходники данных/\"+fileName)\n",
    "    xlsx.index = xlsx['Категория']+\" / \"+xlsx['Предмет']\n",
    "    dataMain += list(xlsx.index.values)\n",
    "    xlsx = xlsx.rename(columns={'Оборачиваемость, дни': pd.to_datetime(fileDate)})\n",
    "    xlsx = xlsx.drop(columns=['Доступность товара для клиента', 'Категория', 'Предмет'])\n",
    "    varName = f\"xlsx_{i}\"\n",
    "    globals()[varName] = xlsx.copy()\n",
    "    varsList.append(varName)\n",
    "    i += 1\n",
    "    # break\n",
    "dataMain = pd.DataFrame(index=set(dataMain))"
   ]
  },
  {
   "cell_type": "code",
   "execution_count": 35,
   "metadata": {},
   "outputs": [],
   "source": [
    "for varName in varsList:\n",
    "    dataMain = dataMain.join(eval(varName))"
   ]
  },
  {
   "cell_type": "code",
   "execution_count": 36,
   "metadata": {},
   "outputs": [],
   "source": [
    "dataMain = dataMain[sorted(dataMain.columns)]"
   ]
  },
  {
   "cell_type": "code",
   "execution_count": null,
   "metadata": {},
   "outputs": [],
   "source": [
    "dataMain.to_excel(\"mainData.xlsx\")"
   ]
  }
 ],
 "metadata": {
  "interpreter": {
   "hash": "16dc25e841869a48f6ed0909fdd85f5fb4f7f78f548bd98309e55acac873018c"
  },
  "kernelspec": {
   "display_name": "Python 3.9.7 ('base')",
   "language": "python",
   "name": "python3"
  },
  "language_info": {
   "codemirror_mode": {
    "name": "ipython",
    "version": 3
   },
   "file_extension": ".py",
   "mimetype": "text/x-python",
   "name": "python",
   "nbconvert_exporter": "python",
   "pygments_lexer": "ipython3",
   "version": "3.9.7"
  },
  "orig_nbformat": 4
 },
 "nbformat": 4,
 "nbformat_minor": 2
}
