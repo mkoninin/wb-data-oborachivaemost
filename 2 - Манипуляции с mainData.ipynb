{
 "cells": [
  {
   "cell_type": "code",
   "execution_count": 21,
   "metadata": {},
   "outputs": [],
   "source": [
    "import pandas as pd\n",
    "\n",
    "df = pd.read_excel('mainData1.xlsx')"
   ]
  },
  {
   "cell_type": "code",
   "execution_count": 22,
   "metadata": {},
   "outputs": [],
   "source": [
    "df = df.rename(columns={\"Unnamed: 0\": \"Тип товара\"})\n",
    "df = df.dropna(subset=['Тип товара'])\n",
    "df = df.set_index(['Тип товара'])"
   ]
  },
  {
   "cell_type": "code",
   "execution_count": 23,
   "metadata": {},
   "outputs": [],
   "source": [
    "dfSideData = df[['Кол-во товаров', 'Категория']]\n",
    "df = df.drop(columns=['Кол-во товаров', 'Категория'])"
   ]
  },
  {
   "cell_type": "code",
   "execution_count": 24,
   "metadata": {},
   "outputs": [],
   "source": [
    "df2 = df.transpose()\n",
    "df2.index = pd.to_datetime(df2.index)\n",
    "# df2.index"
   ]
  },
  {
   "cell_type": "code",
   "execution_count": 25,
   "metadata": {},
   "outputs": [],
   "source": [
    "df3 = df2.reset_index()\n",
    "df4 = df3.groupby(pd.Grouper(freq='M', key='index')).mean().round()"
   ]
  },
  {
   "cell_type": "code",
   "execution_count": 26,
   "metadata": {},
   "outputs": [],
   "source": [
    "df5 = df4.transpose()\n",
    "df5['Средняя оборачиваемость'] = df5.mean(axis=1).round()\n",
    "# df5"
   ]
  },
  {
   "cell_type": "code",
   "execution_count": 27,
   "metadata": {},
   "outputs": [],
   "source": [
    "df5['Категория'] = dfSideData['Категория']\n",
    "df5['Кол-во товаров'] = dfSideData['Кол-во товаров']\n",
    "# df5\n",
    "df5 = df5.dropna(axis='columns', how='all')\n",
    "df5 = df5.dropna(subset=['Категория'])"
   ]
  },
  {
   "cell_type": "code",
   "execution_count": 30,
   "metadata": {},
   "outputs": [],
   "source": [
    "categList = ['Продукты', 'Одежда', 'Белье', 'Все для садоводства', 'Детское питание', \"Садовая техника\", \"Садовые инструменты\", \n",
    "\"Спортивное питание и косметика\", \"Спортивная одежда\", \"Товары для отдыха и кемпинга\", \"Одежда для малышей\"]\n",
    "\n",
    "df6 = df5[(df5['Кол-во товаров'] > 1000) & (df5['Кол-во товаров'] < 10000) & (df5['Средняя оборачиваемость'] < 50) & (~df5['Категория'].isin(categList))]\n",
    "df6.to_excel('оборачиваемость меньше 50 дней1.xlsx')\n",
    "df5.to_excel('оборачиваемость - полная.xlsx')"
   ]
  }
 ],
 "metadata": {
  "kernelspec": {
   "display_name": "Python 3.9.7 ('base')",
   "language": "python",
   "name": "python3"
  },
  "language_info": {
   "codemirror_mode": {
    "name": "ipython",
    "version": 3
   },
   "file_extension": ".py",
   "mimetype": "text/x-python",
   "name": "python",
   "nbconvert_exporter": "python",
   "pygments_lexer": "ipython3",
   "version": "3.9.7"
  },
  "orig_nbformat": 4,
  "vscode": {
   "interpreter": {
    "hash": "19d1d53a962d236aa061289c2ac16dc8e6d9648c89fe79f459ae9a3493bc67b4"
   }
  }
 },
 "nbformat": 4,
 "nbformat_minor": 2
}
